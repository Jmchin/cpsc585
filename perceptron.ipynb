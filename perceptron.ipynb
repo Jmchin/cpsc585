{
 "cells": [
  {
   "cell_type": "code",
   "execution_count": 1,
   "metadata": {},
   "outputs": [],
   "source": [
    "import numpy as np\n",
    "import matplotlib.pyplot as plt\n",
    "%matplotlib inline"
   ]
  },
  {
   "cell_type": "markdown",
   "metadata": {},
   "source": [
    "Perceptrons are artificial neurons that are roughly modeled on neurobiology. The perceptron can be conceptualized as a body, which receives some number of weighted inputs. This body performs the weighted summation of these weights and inputs, passing this value to an activation function. For a perceptron, the activation function is simply the step function, i.e if the input exceeds some threshold value, return 1, else 0."
   ]
  },
  {
   "cell_type": "code",
   "execution_count": 2,
   "metadata": {},
   "outputs": [
    {
     "name": "stdout",
     "output_type": "stream",
     "text": [
      "[[0 1 1 1 0 1 0]\n",
      " [0 0 1 1 0 0 0]\n",
      " [1 1 0 0 0 1 1]\n",
      " [1 1 1 1 1 0 0]\n",
      " [0 1 1 0 0 0 1]]\n",
      "[[0 1 1 1 0]\n",
      " [1 0 0 0 1]\n",
      " [1 0 0 0 1]\n",
      " [1 0 0 0 1]\n",
      " [1 1 1 1 1]\n",
      " [1 0 0 0 1]\n",
      " [1 0 0 0 1]]\n"
     ]
    }
   ],
   "source": [
    "# import dataset\n",
    "import dataset\n",
    "\n",
    "# Our dataset uses chars and not number values: encode the values\n",
    "def encode(data):\n",
    "    return [1 if pixel == '#' else 0\n",
    "               for line in data\n",
    "               for pixel in line]\n",
    "\n",
    "train_set = [encode(d) for d in dataset.TRAINING_DATA]\n",
    "test_set = [encode(d) for d in dataset.TEST_DATA]\n",
    "\n",
    "# Project document says that the data is 5x7...columns x rows\n",
    "print(np.reshape(train_set[0], (5,7)))\n",
    "\n",
    "# But numpy reshape wants rows x columns\n",
    "print(np.reshape(train_set[0], (7,5)))"
   ]
  },
  {
   "cell_type": "markdown",
   "metadata": {},
   "source": [
    "Now that we have our data, we can do some superficial analysis to make sure we are on the right track. Our goal is to implement a perceptron for each letter of the English alphabet, for a total of 26 perceptrons."
   ]
  },
  {
   "cell_type": "code",
   "execution_count": 3,
   "metadata": {},
   "outputs": [
    {
     "name": "stdout",
     "output_type": "stream",
     "text": [
      "len(train_set): 26\n",
      "len(test_set): 26\n"
     ]
    }
   ],
   "source": [
    "print(f'len(train_set): {len(train_set)}')\n",
    "print(f'len(test_set): {len(test_set)}')"
   ]
  },
  {
   "cell_type": "markdown",
   "metadata": {},
   "source": [
    "This looks good so far. We need to implement 26 perceptrons, and we have 26 items in both the training set and testing sets.\n",
    "\n",
    "Now we can check the length of our input vector for our letter classifying perceptron."
   ]
  },
  {
   "cell_type": "code",
   "execution_count": 4,
   "metadata": {},
   "outputs": [
    {
     "name": "stdout",
     "output_type": "stream",
     "text": [
      "len(input_vector): 35\n"
     ]
    }
   ],
   "source": [
    "print(f'len(input_vector): {len(train_set[0])}')"
   ]
  },
  {
   "cell_type": "markdown",
   "metadata": {},
   "source": [
    "The letters we are using for our training and testing data are structured as 7x5 blocks, so this seems to check out as well.\n",
    "\n",
    "Now that we know the length of our input vector, we can initialize our weights vector.\n",
    "\n",
    "NOTE: In the perceptron model, there is an additional bias input, which is always a weighted +1. We will need to account for this by adding an extra weight to our weight vector, and an extra input +1 to the input vector."
   ]
  },
  {
   "cell_type": "code",
   "execution_count": 5,
   "metadata": {},
   "outputs": [
    {
     "name": "stdout",
     "output_type": "stream",
     "text": [
      "[-0.16595599  0.44064899 -0.99977125 -0.39533485 -0.70648822 -0.81532281\n",
      " -0.62747958 -0.30887855 -0.20646505  0.07763347 -0.16161097  0.370439\n",
      " -0.5910955   0.75623487 -0.94522481  0.34093502 -0.1653904   0.11737966\n",
      " -0.71922612 -0.60379702  0.60148914  0.93652315 -0.37315164  0.38464523\n",
      "  0.7527783   0.78921333 -0.82991158 -0.92189043 -0.66033916  0.75628501\n",
      " -0.80330633 -0.15778475  0.91577906  0.06633057  0.38375423 -0.36896874]\n"
     ]
    }
   ],
   "source": [
    "input_vector = [1] + train_set[0]         # add bias to front of input vector\n",
    "input_vector = np.asarray(input_vector)   # lets read everything in as numpy arrays now\n",
    "\n",
    "np.random.seed(1)  # for testing purposes\n",
    "weight_vector = np.random.uniform(-1, 1, len(input_vector))  # initialize random weights\n",
    "print(weight_vector)"
   ]
  },
  {
   "cell_type": "markdown",
   "metadata": {},
   "source": [
    "Once we have our two vectors describing the perceptron network, we can start modeling the rest. Right now we have inputs and their associated weights. With these, we can compute a weighted sum of all the inputs into the perceptron."
   ]
  },
  {
   "cell_type": "code",
   "execution_count": 6,
   "metadata": {},
   "outputs": [
    {
     "name": "stdout",
     "output_type": "stream",
     "text": [
      "[-0.16595599  0.44064899 -0.99977125 -0.39533485 -0.70648822 -0.81532281\n",
      " -0.62747958 -0.30887855 -0.20646505  0.07763347 -0.16161097  0.370439\n",
      " -0.5910955   0.75623487 -0.94522481  0.34093502 -0.1653904   0.11737966\n",
      " -0.71922612 -0.60379702  0.60148914  0.93652315 -0.37315164  0.38464523\n",
      "  0.7527783   0.78921333 -0.82991158 -0.92189043 -0.66033916  0.75628501\n",
      " -0.80330633 -0.15778475  0.91577906  0.06633057  0.38375423 -0.36896874]\n",
      "--------------------------------------------------------------------------------\n",
      "[1 0 1 1 1 0 1 0 0 0 1 1 0 0 0 1 1 0 0 0 1 1 1 1 1 1 1 0 0 0 1 1 0 0 0 1]\n",
      "--------------------------------------------------------------------------------\n",
      "-1.5791311261411078\n"
     ]
    }
   ],
   "source": [
    "weighted_sum = np.dot(weight_vector, input_vector)\n",
    "\n",
    "print(weight_vector.transpose())\n",
    "print('-'*80)\n",
    "print(input_vector)\n",
    "print('-'*80)\n",
    "print(weighted_sum)"
   ]
  },
  {
   "cell_type": "markdown",
   "metadata": {},
   "source": [
    "The next part we need to add into our perceptron model is the activation function, i.e a threshold. If the weighted sum of all inputs to the network exceeds some threshold value ouput +1, else output 0."
   ]
  },
  {
   "cell_type": "code",
   "execution_count": 7,
   "metadata": {},
   "outputs": [
    {
     "name": "stdout",
     "output_type": "stream",
     "text": [
      "Network predicts 0 given (-1.5791311261411078) weighted sum.\n"
     ]
    }
   ],
   "source": [
    "threshold = 0\n",
    "prediction = 1 if weighted_sum > threshold else 0\n",
    "print(f'Network predicts {prediction} given ({weighted_sum}) weighted sum.')"
   ]
  },
  {
   "cell_type": "markdown",
   "metadata": {},
   "source": [
    "We almost have all of the building blocks we need to implement a perceptron. Now we need to figure out how to make the perceptron \"learn\". That is, we need to compare our prediction to the target value, and update our weights accordingly.\n",
    "\n",
    "To do this, first we'll need to define the labels for correctly classifying each letter. Right now let's just quickly build it manually. We can automate this process, for this specific problem, later when we're ready to turn this into an implementation."
   ]
  },
  {
   "cell_type": "code",
   "execution_count": 8,
   "metadata": {},
   "outputs": [],
   "source": [
    "class Perceptron:\n",
    "    def __init__(self, weights, learning_rate=0.1, threshold=0):\n",
    "        self.weights = weights\n",
    "        self.learning_rate = learning_rate\n",
    "        self.threshold = threshold\n",
    "        self.misclasses = []  # store these locally so we can plot each perceptron's learning after training\n",
    "    \n",
    "    def predict(self, inputs):\n",
    "        # inputs[0] == 1 (i.e bias), no need to separately add self.weights[0]\n",
    "        weighted_sum = np.dot(self.weights, inputs)\n",
    "        return (1, weighted_sum) if weighted_sum > self.threshold else (0, weighted_sum)\n",
    "    \n",
    "    def train(self, inputs, labels, epochs=100):\n",
    "        training = True\n",
    "        while epochs > 0 and training:\n",
    "            training = False\n",
    "            miss_count = 0\n",
    "            \n",
    "            for inp, lab in zip(inputs, labels):\n",
    "                prediction, wsum = self.predict(inp)\n",
    "                #print(f'prediction: {prediction}\\twsum:{wsum}')\n",
    "                error = lab - prediction\n",
    "                \n",
    "                if error != 0:\n",
    "                    training = True\n",
    "                    miss_count += 1\n",
    "\n",
    "                    for idx in range(len(inp)):\n",
    "                        self.weights[idx] = self.weights[idx] + self.learning_rate * (error*inp[idx])\n",
    "                        \n",
    "            self.misclasses.append(miss_count)\n",
    "            epochs -= 1\n",
    "            \n",
    "    def plot(self, letter_classifier):\n",
    "        fig, ax = plt.subplots()\n",
    "    \n",
    "        ax.set(xlabel='Number of Epochs', ylabel='Number of Misclassifications',\n",
    "           title=f'Perceptron {letter_classifier}')\n",
    "    \n",
    "        # self.misclasses: [Int] -- a list of integers, representing the number of misclassifications for each epoch i\n",
    "        # the length of self.misclasses is the total number of epochs the perceptron took to train\n",
    "        xaxis = np.arange(0, len(self.misclasses), 1)\n",
    "        yaxis = self.misclasses\n",
    "        ax.plot(xaxis, yaxis)\n",
    "        plt.show()\n",
    "        "
   ]
  },
  {
   "cell_type": "code",
   "execution_count": 9,
   "metadata": {},
   "outputs": [],
   "source": [
    "letters = [ch for ch in 'abcdefghijklmnopqrstuvwxyz']\n",
    "\n",
    "# Setup labels vector for recognizing 'A'\n",
    "a_labels = [0] * len(train_set)\n",
    "a_labels[0] = 1"
   ]
  },
  {
   "cell_type": "code",
   "execution_count": 10,
   "metadata": {},
   "outputs": [
    {
     "name": "stdout",
     "output_type": "stream",
     "text": [
      "[1 0 0 0 0 0 0 0 0 0 0 0 0 0 0 0 0 0 0 0 0 0 0 0 0 0]\n",
      "[0 1 0 0 0 0 0 0 0 0 0 0 0 0 0 0 0 0 0 0 0 0 0 0 0 0]\n",
      "[0 0 1 0 0 0 0 0 0 0 0 0 0 0 0 0 0 0 0 0 0 0 0 0 0 0]\n"
     ]
    }
   ],
   "source": [
    "# build the labels for all letters\n",
    "all_labels = [ np.roll(a_labels, i) for i in range(len(a_labels)) ]\n",
    "\n",
    "print(all_labels[0])   # 'A'\n",
    "print(all_labels[1])   # 'B'\n",
    "print(all_labels[2])   # 'C'"
   ]
  },
  {
   "cell_type": "code",
   "execution_count": 11,
   "metadata": {},
   "outputs": [
    {
     "name": "stdout",
     "output_type": "stream",
     "text": [
      "[0 0 0 0 0 0 0 0 0 0 0 0 0 0 0 0 0 0 0 0 0 0 0 0 0 1]\n"
     ]
    }
   ],
   "source": [
    "# map each label vector with its appropriate letter for convenience if we ever need to access by character\n",
    "label_dict = {letter : labels for (letter,labels) in zip(letters,all_labels)}\n",
    "\n",
    "print(label_dict['z'])"
   ]
  },
  {
   "cell_type": "code",
   "execution_count": 12,
   "metadata": {},
   "outputs": [],
   "source": [
    "# Add +1 bias to beginning of all input vectors in training set\n",
    "inputs = [[1] + train_set[i] for i in range(len(train_set))] \n",
    "input_dict = {ch : inp for ch, inp in zip(letters, inputs)}"
   ]
  },
  {
   "cell_type": "markdown",
   "metadata": {},
   "source": [
    "We add a bias of +1 to the beginning of each input vector so that we don't need to manually manage the bias when performing the weighted sum. We treat the bias as just another weighted input (i.e perceptron.weights[0] and inputs[0][0])."
   ]
  },
  {
   "cell_type": "code",
   "execution_count": 14,
   "metadata": {},
   "outputs": [
    {
     "name": "stdout",
     "output_type": "stream",
     "text": [
      "Testing 'a'\n",
      "----------------------------------------\n",
      " a vs a : 1 (1.9849738131208545)\n",
      " a vs j : 1 (0.25791681245734155)\n",
      "----------------------------------------\n",
      "Testing 'b'\n",
      "----------------------------------------\n",
      " b vs j : 1 (0.49949260208004975)\n",
      " b vs s : 1 (0.08746623745170934)\n",
      "----------------------------------------\n",
      "Testing 'c'\n",
      "----------------------------------------\n",
      " c vs c : 1 (1.2176577779925306)\n",
      " c vs g : 1 (0.16381953571112584)\n",
      " c vs n : 1 (0.04448407339020044)\n",
      " c vs y : 1 (0.1362867974372589)\n",
      "----------------------------------------\n",
      "Testing 'd'\n",
      "----------------------------------------\n",
      " d vs a : 1 (1.2161187636169652)\n",
      "----------------------------------------\n",
      "Testing 'e'\n",
      "----------------------------------------\n",
      " e vs x : 1 (0.4140145298390193)\n",
      "----------------------------------------\n",
      "Testing 'f'\n",
      "----------------------------------------\n",
      " f vs f : 1 (0.7439662480014072)\n",
      " f vs x : 1 (1.553287157420119)\n",
      "----------------------------------------\n",
      "Testing 'g'\n",
      "----------------------------------------\n",
      "----------------------------------------\n",
      "Testing 'h'\n",
      "----------------------------------------\n",
      " h vs a : 1 (0.07816628153215233)\n",
      " h vs h : 1 (0.07422076818126744)\n",
      " h vs w : 1 (0.07343431191976058)\n",
      " h vs x : 1 (0.09879761211293103)\n",
      "----------------------------------------\n",
      "Testing 'i'\n",
      "----------------------------------------\n",
      " i vs i : 1 (0.06744207777929134)\n",
      "----------------------------------------\n",
      "Testing 'j'\n",
      "----------------------------------------\n",
      " j vs x : 1 (0.9043046478860227)\n",
      "----------------------------------------\n",
      "Testing 'k'\n",
      "----------------------------------------\n",
      " k vs k : 1 (1.4453923720057151)\n",
      " k vs x : 1 (0.6195581535062719)\n",
      "----------------------------------------\n",
      "Testing 'l'\n",
      "----------------------------------------\n",
      " l vs a : 1 (0.06145319012530068)\n",
      " l vs e : 1 (0.21595316120798885)\n",
      " l vs l : 1 (1.058952415176659)\n",
      "----------------------------------------\n",
      "Testing 'm'\n",
      "----------------------------------------\n",
      " m vs n : 1 (0.7864931532467152)\n",
      "----------------------------------------\n",
      "Testing 'n'\n",
      "----------------------------------------\n",
      "----------------------------------------\n",
      "Testing 'o'\n",
      "----------------------------------------\n",
      " o vs o : 1 (0.14284260002354843)\n",
      " o vs s : 1 (0.4034455678520876)\n",
      "----------------------------------------\n",
      "Testing 'p'\n",
      "----------------------------------------\n",
      " p vs p : 1 (0.751487218724399)\n",
      " p vs r : 1 (0.1509597226455348)\n",
      "----------------------------------------\n",
      "Testing 'q'\n",
      "----------------------------------------\n",
      " q vs q : 1 (0.37975016946293816)\n",
      "----------------------------------------\n",
      "Testing 'r'\n",
      "----------------------------------------\n",
      " r vs a : 1 (0.11102102027377453)\n",
      "----------------------------------------\n",
      "Testing 's'\n",
      "----------------------------------------\n",
      " s vs b : 1 (0.17828569760964408)\n",
      " s vs j : 1 (0.5930502889591233)\n",
      " s vs s : 1 (1.6875325244696657)\n",
      "----------------------------------------\n",
      "Testing 't'\n",
      "----------------------------------------\n",
      " t vs t : 1 (0.9992073714043231)\n",
      " t vs x : 1 (0.3071959921941937)\n",
      "----------------------------------------\n",
      "Testing 'u'\n",
      "----------------------------------------\n",
      " u vs j : 1 (0.6667610098668951)\n",
      " u vs u : 1 (0.957788863178677)\n",
      "----------------------------------------\n",
      "Testing 'v'\n",
      "----------------------------------------\n",
      " v vs v : 1 (0.47077763282110896)\n",
      "----------------------------------------\n",
      "Testing 'w'\n",
      "----------------------------------------\n",
      " w vs n : 1 (0.39733352669377764)\n",
      " w vs w : 1 (1.0643161078150571)\n",
      "----------------------------------------\n",
      "Testing 'x'\n",
      "----------------------------------------\n",
      " x vs a : 1 (0.434047970195418)\n",
      " x vs x : 1 (2.0353827612096)\n",
      "----------------------------------------\n",
      "Testing 'y'\n",
      "----------------------------------------\n",
      " y vs j : 1 (1.284597570635352)\n",
      "----------------------------------------\n",
      "Testing 'z'\n",
      "----------------------------------------\n",
      " z vs z : 1 (0.31444494878403617)\n",
      "----------------------------------------\n"
     ]
    }
   ],
   "source": [
    "# load in testing set\n",
    "test_inputs = [[1] + test_set[i] for i in range(len(test_set))]\n",
    "test_input_dict = {ch : test for (ch, test) in zip(letters, test_inputs)}\n",
    "\n",
    "# make the perceptrons and store them in a dict for easy reference\n",
    "np.random.seed(1)\n",
    "perceptrons = [ Perceptron(np.random.uniform(-1, 1, (len(inputs[0])))) for i in range(len(inputs)) ]\n",
    "perceptron_dict = {ch : p for (ch, p) in zip(letters, perceptrons)}\n",
    "\n",
    "for ch in letters:\n",
    "    p = perceptron_dict[ch]\n",
    "    #print(f'initial weights: {\"*\" * 60}\\n{np.reshape(p.weights[1:], (7,5))}\\nbias: {p.weights[0]}')\n",
    "    p.train(input_dict.values(), label_dict[ch], epochs=100)\n",
    "    \"\"\"\n",
    "    p.plot(ch)\n",
    "    for l in letters:\n",
    "        print(f'{ch} vs {l} = {p.predict(input_dict[l])}')\n",
    "    \"\"\"\n",
    "p_a = perceptron_dict['a']\n",
    "\n",
    "for classifier, p in perceptron_dict.items():\n",
    "    print(f'Testing \\'{classifier}\\'\\n{\"-\" * 40}')\n",
    "    for ch, test in test_input_dict.items():\n",
    "        prediction, wsum = p.predict(test)\n",
    "        if prediction > 0:\n",
    "            print(f' {classifier} vs {ch} : {prediction} ({wsum})')\n",
    "    print(f'{\"-\" * 40}')"
   ]
  },
  {
   "cell_type": "code",
   "execution_count": 97,
   "metadata": {},
   "outputs": [
    {
     "name": "stdout",
     "output_type": "stream",
     "text": [
      "[[ 0.76925134 -1.16342345  0.20028863  0.67772218 -0.30366869]\n",
      " [-0.53911202  0.57855866 -0.89354799 -0.20421295  0.51719101]\n",
      " [-0.5127717  -0.42444932 -0.83994286 -1.36126608  0.45767107]\n",
      " [-0.57674377  0.13109332  0.18314632 -0.39327491 -0.45176479]\n",
      " [-0.70654285 -0.12138893  0.29951672 -0.89533114  0.02811198]\n",
      " [-0.01119968 -0.17164146 -1.00009308 -0.02820719  0.42758929]\n",
      " [ 0.32977822  0.48918951 -0.22688992  0.50680383 -1.02505059]]\n",
      "[[1 1 1 1 0]\n",
      " [1 0 0 0 1]\n",
      " [1 0 0 0 1]\n",
      " [1 1 1 1 0]\n",
      " [1 0 0 0 1]\n",
      " [1 0 0 0 1]\n",
      " [1 1 1 1 0]]\n",
      "--------------------\n",
      "[[0 1 1 1 0]\n",
      " [1 0 0 0 1]\n",
      " [1 0 0 0 1]\n",
      " [1 1 1 1 0]\n",
      " [1 0 0 0 1]\n",
      " [1 0 0 0 1]\n",
      " [1 1 1 1 0]]\n"
     ]
    }
   ],
   "source": [
    "   \n",
    "\n",
    "#for ch in letters:\n",
    "#    print(perceptron_dict[ch].weights)\n",
    "\n",
    "#for inp, weight in zip(inputs[0], perceptron_dict['a'].weights):\n",
    "#    print(f'{inp} : {weight}')\n",
    "#for (letter, p) in perceptron_dict.items():\n",
    "#    for ch, train in zip(letters, input_dict.values()):\n",
    "#        output = p.predict(test)\n",
    "#        print(f'Classifier for {letter} vs {ch} : {output}')\n",
    "#    print(f'{\"*\" * 80}')\n",
    "        \n",
    "for (letter, p) in perceptron_dict.items():\n",
    "    for ch, test in zip(letters,test_inputs):\n",
    "        #print(f'{np.reshape(input_dict[letter][1:], (7,5))} : TRAIN')\n",
    "        #print(f'{\"-\" * 40}')\n",
    "        #print(f'{np.reshape(test[1:],(7,5))} : TEST')\n",
    "        \n",
    "        output = p.predict(test)\n",
    "        \n",
    "        #print(f'{letter} vs {ch}: {output}')\n",
    "    #print(f'{\"*\" * 80}')\n",
    "print(np.reshape(perceptron_dict['b'].weights[1:], (7,5)))\n",
    "print(np.reshape(input_dict['b'][1:], (7,5)))\n",
    "print(f'{\"-\" * 20}')\n",
    "print(np.reshape(test_input_dict['b'][1:], (7,5)))"
   ]
  },
  {
   "cell_type": "code",
   "execution_count": 98,
   "metadata": {},
   "outputs": [
    {
     "name": "stdout",
     "output_type": "stream",
     "text": [
      "       0    1    2    3               4\n",
      "0    5.1  3.5  1.4  0.2     Iris-setosa\n",
      "1    4.9  3.0  1.4  0.2     Iris-setosa\n",
      "2    4.7  3.2  1.3  0.2     Iris-setosa\n",
      "3    4.6  3.1  1.5  0.2     Iris-setosa\n",
      "4    5.0  3.6  1.4  0.2     Iris-setosa\n",
      "..   ...  ...  ...  ...             ...\n",
      "145  6.7  3.0  5.2  2.3  Iris-virginica\n",
      "146  6.3  2.5  5.0  1.9  Iris-virginica\n",
      "147  6.5  3.0  5.2  2.0  Iris-virginica\n",
      "148  6.2  3.4  5.4  2.3  Iris-virginica\n",
      "149  5.9  3.0  5.1  1.8  Iris-virginica\n",
      "\n",
      "[150 rows x 5 columns]\n"
     ]
    },
    {
     "data": {
      "image/png": "[encoded data removed]",
      "text/plain": [
       "<Figure size 432x288 with 1 Axes>"
      ]
     },
     "metadata": {
      "needs_background": "light"
     },
     "output_type": "display_data"
    }
   ],
   "source": [
    "# lets verify this perceptron algorithm works on some data we can visualize...\n",
    "import pandas as pd\n",
    "\n",
    "def load_data():\n",
    "    url = 'https://archive.ics.uci.edu/ml/machine-learning-databases/iris/iris.data'\n",
    "    data = pd.read_csv(url, header = None)\n",
    "    print(data)\n",
    "    \n",
    "    data = data[:100]\n",
    "    data[4] = np.where(data.iloc[:, -1] =='Iris-setosa', 0, 1)\n",
    "    data = np.asmatrix(data, dtype = 'float64')\n",
    "    return data\n",
    "\n",
    "data = load_data()\n",
    "\n",
    "plt.scatter(np.array(data[:50,0]), np.array(data[:50,2]), marker='o', label='setosa')\n",
    "plt.scatter(np.array(data[50:,0]), np.array(data[50:,2]), marker='x', label='versicolor')\n",
    "plt.xlabel('petal length')\n",
    "plt.ylabel('sepal length')\n",
    "plt.legend()\n",
    "plt.show()"
   ]
  },
  {
   "cell_type": "code",
   "execution_count": 99,
   "metadata": {},
   "outputs": [
    {
     "name": "stdout",
     "output_type": "stream",
     "text": [
      "[6, 5, 5, 3, 4, 3, 3, 2, 2, 3, 2, 3, 2, 2, 3, 2, 2, 1, 0, 0]\n"
     ]
    },
    {
     "data": {
      "image/png": "[encoded data removed]",
      "text/plain": [
       "<Figure size 432x288 with 1 Axes>"
      ]
     },
     "metadata": {
      "needs_background": "light"
     },
     "output_type": "display_data"
    }
   ],
   "source": [
    "features = data[:, :-1]\n",
    "    \n",
    "np.random.seed(1)\n",
    "w = np.random.uniform(-1, 1, features.shape[1]+1)\n",
    "#print(w)\n",
    "#w = np.zeros(features.shape[1]+1)\n",
    "#print(w)\n",
    "features = np.asarray([[1] + feature for feature in features])\n",
    "\n",
    "labels =  data[:, -1]\n",
    "\n",
    "example_perceptron = Perceptron(w)\n",
    "\n",
    "epochs = 20\n",
    "misclassified = []\n",
    "\n",
    "for epoch in range(epochs):\n",
    "    misclasses = 0\n",
    "    for x, l in zip(features, labels):\n",
    "        x = np.insert(x,0,1)\n",
    "        pred = np.dot(example_perceptron.weights, x)\n",
    "        out = 1 if pred > 0 else 0\n",
    "        err = l - out\n",
    "\n",
    "       # print(f'features: {x}\\nweights: {example_perceptron.weights}\\nprediction: {pred}\\noutput: {out}\\nlabel: {l}\\nerror: {err}\\n{\"*\" * 60}\\n')\n",
    "        if err != 0:\n",
    "            misclasses += 1\n",
    "            for i in range(len(x)):\n",
    "                example_perceptron.weights[i] = example_perceptron.weights[i] + (0.01 * (err * x[i]))\n",
    "    misclassified.append(misclasses)\n",
    "\n",
    "print(misclassified)\n",
    "plt.plot(np.arange(1,epochs+1), misclassified)\n",
    "plt.xlabel('iterations')\n",
    "plt.ylabel('misclassified')\n",
    "plt.show()\n",
    "#for i in range(len(features)):\n",
    " #   print(example_perceptron.predict(np.insert(features[i],0,1)))\n",
    "    #example_perceptron.train(x, labels)"
   ]
  },
  {
   "cell_type": "code",
   "execution_count": null,
   "metadata": {},
   "outputs": [],
   "source": []
  },
  {
   "cell_type": "code",
   "execution_count": null,
   "metadata": {},
   "outputs": [],
   "source": []
  }
 ],
 "metadata": {
  "kernelspec": {
   "display_name": "Python 3",
   "language": "python",
   "name": "python3"
  },
  "language_info": {
   "codemirror_mode": {
    "name": "ipython",
    "version": 3
   },
   "file_extension": ".py",
   "mimetype": "text/x-python",
   "name": "python",
   "nbconvert_exporter": "python",
   "pygments_lexer": "ipython3",
   "version": "3.8.2"
  }
 },
 "nbformat": 4,
 "nbformat_minor": 4
}
